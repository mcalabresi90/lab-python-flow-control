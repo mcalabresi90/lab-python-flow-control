{
 "cells": [
  {
   "cell_type": "markdown",
   "id": "d3bfc191-8885-42ee-b0a0-bbab867c6f9f",
   "metadata": {
    "tags": []
   },
   "source": [
    "# Lab | Flow Control"
   ]
  },
  {
   "cell_type": "markdown",
   "id": "3851fcd1-cf98-4653-9c89-e003b7ec9400",
   "metadata": {},
   "source": [
    "#Exercise: Managing Customer Orders Optimized\n",
    "\n",
    "In the last lab, you were starting an online store that sells various products. To ensure smooth operations, you developed a program that manages customer orders and inventory.\n",
    "\n",
    "You did so without using flow control. Let's go a step further and improve this code.\n",
    "\n",
    "Follow the steps below to complete the exercise:\n",
    "\n",
    "1. Look at your code from the lab data structures, and improve repeated code with loops.\n",
    "\n",
    "2. Instead of asking the user to input the name of three products that a customer wants to order, do the following:\n",
    "    \n",
    "    a. Prompt the user to enter the name of a product that a customer wants to order.\n",
    "    \n",
    "    b. Add the product name to the \"customer_orders\" set.\n",
    "    \n",
    "    c. Ask the user if they want to add another product (yes/no).\n",
    "    \n",
    "    d. Continue the loop until the user does not want to add another product.\n",
    "\n",
    "3. Instead of updating the inventory by subtracting 1 from the quantity of each product, only do it for  the products that were ordered (those in \"customer_orders\")."
   ]
  },
  {
   "cell_type": "code",
   "execution_count": 33,
   "id": "152a71c7-bc73-45eb-9892-2cf1383a2a3f",
   "metadata": {},
   "outputs": [],
   "source": [
    "inventory = {\n",
    "    \"mug\" : 5,\n",
    "    \"hat\": 23,\n",
    "    \"book\": 23,\n",
    "    \"t-shirt\": 12,\n",
    "    \"keychain\":15\n",
    "}\n"
   ]
  },
  {
   "cell_type": "code",
   "execution_count": 34,
   "id": "5aceade8-cbd2-458a-9e6d-e35b926f72f8",
   "metadata": {},
   "outputs": [],
   "source": [
    "customer_orders = set()"
   ]
  },
  {
   "cell_type": "code",
   "execution_count": 70,
   "id": "c75c8576-4fbb-4549-9ca2-f5a0cae13745",
   "metadata": {},
   "outputs": [
    {
     "name": "stdin",
     "output_type": "stream",
     "text": [
      "Enter the product name:  hat\n",
      "Would you like to add another product? Yes/No:  yes\n",
      "Enter the product name:  mug\n",
      "Would you like to add another product? Yes/No:  no\n"
     ]
    },
    {
     "name": "stdout",
     "output_type": "stream",
     "text": [
      "Thank you for your purchase!\n"
     ]
    }
   ],
   "source": [
    "while True:\n",
    "    user_input = input(\"Enter the product name: \")\n",
    "\n",
    "    if user_input in inventory:  \n",
    "        customer_orders.add(user_input)  \n",
    "\n",
    "    else:\n",
    "        print(\"Product not found. Please select a valid product:\", list(inventory.keys()))\n",
    "\n",
    "    more_items = input(\"Would you like to add another product? Yes/No: \").lower()\n",
    "\n",
    "    if more_items == \"no\":\n",
    "        print(\"Thank you for your purchase!\")\n",
    "        break  \n",
    "    elif more_items != \"yes\":\n",
    "        print(\"Please answer 'Yes' or 'No'\")\n"
   ]
  },
  {
   "cell_type": "code",
   "execution_count": 71,
   "id": "422f4d39-e97e-42db-b340-5ad41385337e",
   "metadata": {},
   "outputs": [
    {
     "name": "stdout",
     "output_type": "stream",
     "text": [
      "Updated Inventory: {'mug': 4, 'hat': 22, 'book': 23, 't-shirt': 12, 'keychain': 15}\n"
     ]
    }
   ],
   "source": [
    "for product in customer_orders:\n",
    "    if inventory[product] > 0:\n",
    "        inventory[product] -= 1\n",
    "    else:\n",
    "        print(f\"Sorry, {product} is out of stock!\")\n",
    "\n",
    "print(\"Updated Inventory:\", inventory)\n"
   ]
  },
  {
   "cell_type": "code",
   "execution_count": null,
   "id": "96644f2b-34e0-467a-ac78-146f08ee691b",
   "metadata": {},
   "outputs": [],
   "source": []
  }
 ],
 "metadata": {
  "kernelspec": {
   "display_name": "Python 3 (ipykernel)",
   "language": "python",
   "name": "python3"
  },
  "language_info": {
   "codemirror_mode": {
    "name": "ipython",
    "version": 3
   },
   "file_extension": ".py",
   "mimetype": "text/x-python",
   "name": "python",
   "nbconvert_exporter": "python",
   "pygments_lexer": "ipython3",
   "version": "3.12.4"
  }
 },
 "nbformat": 4,
 "nbformat_minor": 5
}
